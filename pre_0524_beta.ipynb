{
 "cells": [
  {
   "cell_type": "code",
   "execution_count": 1,
   "metadata": {
    "collapsed": true
   },
   "outputs": [],
   "source": [
    "import numpy as np\n",
    "import pandas as pd"
   ]
  },
  {
   "cell_type": "code",
   "execution_count": 2,
   "metadata": {},
   "outputs": [
    {
     "data": {
      "text/html": [
       "<div>\n",
       "<style>\n",
       "    .dataframe thead tr:only-child th {\n",
       "        text-align: right;\n",
       "    }\n",
       "\n",
       "    .dataframe thead th {\n",
       "        text-align: left;\n",
       "    }\n",
       "\n",
       "    .dataframe tbody tr th {\n",
       "        vertical-align: top;\n",
       "    }\n",
       "</style>\n",
       "<table border=\"1\" class=\"dataframe\">\n",
       "  <thead>\n",
       "    <tr style=\"text-align: right;\">\n",
       "      <th></th>\n",
       "      <th>bid_id</th>\n",
       "      <th>bidder_id</th>\n",
       "      <th>auction</th>\n",
       "      <th>merchandise</th>\n",
       "      <th>device</th>\n",
       "      <th>time</th>\n",
       "      <th>country</th>\n",
       "      <th>ip</th>\n",
       "      <th>url</th>\n",
       "    </tr>\n",
       "  </thead>\n",
       "  <tbody>\n",
       "    <tr>\n",
       "      <th>0</th>\n",
       "      <td>0</td>\n",
       "      <td>8dac2b259fd1c6d1120e519fb1ac14fbqvax8</td>\n",
       "      <td>ewmzr</td>\n",
       "      <td>jewelry</td>\n",
       "      <td>phone0</td>\n",
       "      <td>9759243157894736</td>\n",
       "      <td>us</td>\n",
       "      <td>69.166.231.58</td>\n",
       "      <td>vasstdc27m7nks3</td>\n",
       "    </tr>\n",
       "    <tr>\n",
       "      <th>1</th>\n",
       "      <td>1</td>\n",
       "      <td>668d393e858e8126275433046bbd35c6tywop</td>\n",
       "      <td>aeqok</td>\n",
       "      <td>furniture</td>\n",
       "      <td>phone1</td>\n",
       "      <td>9759243157894736</td>\n",
       "      <td>in</td>\n",
       "      <td>50.201.125.84</td>\n",
       "      <td>jmqlhflrzwuay9c</td>\n",
       "    </tr>\n",
       "  </tbody>\n",
       "</table>\n",
       "</div>"
      ],
      "text/plain": [
       "   bid_id                              bidder_id auction merchandise  device  \\\n",
       "0       0  8dac2b259fd1c6d1120e519fb1ac14fbqvax8   ewmzr     jewelry  phone0   \n",
       "1       1  668d393e858e8126275433046bbd35c6tywop   aeqok   furniture  phone1   \n",
       "\n",
       "               time country             ip              url  \n",
       "0  9759243157894736      us  69.166.231.58  vasstdc27m7nks3  \n",
       "1  9759243157894736      in  50.201.125.84  jmqlhflrzwuay9c  "
      ]
     },
     "execution_count": 2,
     "metadata": {},
     "output_type": "execute_result"
    }
   ],
   "source": [
    "bids = pd.read_csv('data/bids.csv')\n",
    "trains = pd.read_csv('data/train.csv', usecols=['bidder_id', 'outcome'])\n",
    "bids.head(2)"
   ]
  },
  {
   "cell_type": "code",
   "execution_count": 3,
   "metadata": {},
   "outputs": [
    {
     "name": "stdout",
     "output_type": "stream",
     "text": [
      "<class 'pandas.core.frame.DataFrame'>\n",
      "RangeIndex: 7656334 entries, 0 to 7656333\n",
      "Data columns (total 9 columns):\n",
      "bid_id         7656334 non-null int64\n",
      "bidder_id      7656334 non-null object\n",
      "auction        7656334 non-null object\n",
      "merchandise    7656334 non-null object\n",
      "device         7656334 non-null object\n",
      "time           7656334 non-null int64\n",
      "country        7647475 non-null object\n",
      "ip             7656334 non-null object\n",
      "url            7656334 non-null object\n",
      "dtypes: int64(2), object(7)\n",
      "memory usage: 525.7+ MB\n"
     ]
    }
   ],
   "source": [
    "bids.info(verbose=True, null_counts=True)"
   ]
  },
  {
   "cell_type": "code",
   "execution_count": 4,
   "metadata": {
    "collapsed": true
   },
   "outputs": [],
   "source": [
    "# 原始数据处理\n",
    "bids['ip'] = bids['ip'].str.replace('.', '')\n",
    "bids['country'] = bids['country'].fillna('unknown')"
   ]
  },
  {
   "cell_type": "code",
   "execution_count": 5,
   "metadata": {
    "collapsed": true
   },
   "outputs": [],
   "source": [
    "# 建立统计表\n",
    "stat = pd.DataFrame(index=np.sort(bids['bidder_id'].unique()))"
   ]
  },
  {
   "cell_type": "markdown",
   "metadata": {},
   "source": [
    "# bid_id"
   ]
  },
  {
   "cell_type": "code",
   "execution_count": 6,
   "metadata": {
    "collapsed": true
   },
   "outputs": [],
   "source": [
    "stat['bid_count'] = bids.groupby('bidder_id')['bid_id'].count()\n",
    "\n",
    "id_auc = bids.groupby(['bidder_id', 'auction'])['bid_id'].count().groupby(level='bidder_id')\n",
    "stat['bid_count_auc_mean'] = id_auc.mean()\n",
    "stat['bid_count_auc_std'] = id_auc.std(ddof=0)\n",
    "stat['bid_count_auc_max'] = id_auc.max()\n",
    "\n",
    "id_ip = bids.groupby(['bidder_id', 'ip'])['bid_id'].count().groupby(level='bidder_id')\n",
    "stat['bid_count_ip_mean'] = id_ip.mean()\n",
    "stat['bid_count_ip_std'] = id_ip.std(ddof=0)\n",
    "stat['bid_count_ip_max'] = id_ip.max()\n",
    "\n",
    "id_url = bids.groupby(['bidder_id', 'url'])['bid_id'].count().groupby(level='bidder_id')\n",
    "stat['bid_count_url_mean'] = id_url.mean()\n",
    "stat['bid_count_url_std'] = id_url.std(ddof=0)\n",
    "stat['bid_count_url_max'] = id_url.max()"
   ]
  },
  {
   "cell_type": "code",
   "execution_count": 7,
   "metadata": {},
   "outputs": [
    {
     "data": {
      "text/plain": [
       "bd0071b98d9479130e5c053a244fe6f1muj8h      1\n",
       "91c749114e26abdb9a4536169f9b4580huern      1\n",
       "74a35c4376559c911fdb5e9cfb78c5e4btqew      1\n",
       "f35082c6d72f1f1be3dd23f949db1f577t6wd      1\n",
       "7fab82fa5eaea6a44eb743bc4bf356b3tarle      1\n",
       "efc61ad6db17265a4bac85f77b154ef414tpp      4\n",
       "238808859d7752579a415e89a395500fh2o65     10\n",
       "0f3ee77a46dd5a09ad20b7c3e54ec614sbpvb    137\n",
       "40e00fd204d0ce97110032bfc47f423d0bgrd    148\n",
       "d863897264a7e52d9c6a1be6dc453c6c9anz0    151\n",
       "Name: bid_count, dtype: int64"
      ]
     },
     "execution_count": 7,
     "metadata": {},
     "output_type": "execute_result"
    }
   ],
   "source": [
    "# bot stat\n",
    "bot_id = trains['bidder_id'][trains['outcome'] == 1].unique()\n",
    "stat['bid_count'][stat.index.isin(bot_id)].sort_values().head(10)"
   ]
  },
  {
   "cell_type": "code",
   "execution_count": 8,
   "metadata": {
    "collapsed": true
   },
   "outputs": [],
   "source": [
    "# last 100 bid prop\n",
    "auc_not_end = bids['auction'][bids['time'] == 9772885210526315].unique()\n",
    "auc_sheet = bids[~bids['auction'].isin(auc_not_end)]\n",
    "auc_stat = pd.DataFrame(index=auc_sheet['bidder_id'].sort_values().unique(), columns=bids['auction'].sort_values().unique(), data=np.nan)\n",
    "auc_g = auc_sheet.groupby('auction')\n",
    "for name, group in auc_g:\n",
    "    if len(group) >= 100:\n",
    "        last_100 = group.sort_values('time').iloc[-100:]['bidder_id'].value_counts()\n",
    "        last_100p = last_100.div(last_100.sum())\n",
    "        auc_stat.loc[last_100p.index, name] = last_100p"
   ]
  },
  {
   "cell_type": "code",
   "execution_count": 9,
   "metadata": {},
   "outputs": [
    {
     "name": "stderr",
     "output_type": "stream",
     "text": [
      "C:\\Users\\carey\\Anaconda3\\lib\\site-packages\\pandas\\core\\indexing.py:179: SettingWithCopyWarning: \n",
      "A value is trying to be set on a copy of a slice from a DataFrame\n",
      "\n",
      "See the caveats in the documentation: http://pandas.pydata.org/pandas-docs/stable/indexing.html#indexing-view-versus-copy\n",
      "  self._setitem_with_indexer(indexer, value)\n"
     ]
    }
   ],
   "source": [
    "stat['bid_lst100_mean'] = np.nan\n",
    "stat['bid_lst100_std'] =np.nan\n",
    "stat['bid_lst100_max'] = np.nan\n",
    "stat['bid_lst100_min'] = np.nan\n",
    "\n",
    "stat['bid_lst100_mean'].loc[auc_stat.index] = auc_stat.mean(axis=1, skipna=True, numeric_only=True)\n",
    "stat['bid_lst100_std'].loc[auc_stat.index] = auc_stat.std(axis=1, skipna=True, numeric_only=True)\n",
    "stat['bid_lst100_max'].loc[auc_stat.index] = auc_stat.max(axis=1, skipna=True, numeric_only=True)\n",
    "stat['bid_lst100_min'].loc[auc_stat.index] = auc_stat.min(axis=1, skipna=True, numeric_only=True)"
   ]
  },
  {
   "cell_type": "code",
   "execution_count": 10,
   "metadata": {},
   "outputs": [
    {
     "name": "stderr",
     "output_type": "stream",
     "text": [
      "C:\\Users\\carey\\Anaconda3\\lib\\site-packages\\pandas\\core\\indexing.py:179: SettingWithCopyWarning: \n",
      "A value is trying to be set on a copy of a slice from a DataFrame\n",
      "\n",
      "See the caveats in the documentation: http://pandas.pydata.org/pandas-docs/stable/indexing.html#indexing-view-versus-copy\n",
      "  self._setitem_with_indexer(indexer, value)\n"
     ]
    }
   ],
   "source": [
    "# first / last bid\n",
    "auc_has_start = bids['auction'][bids['time'] == 9631916842105263].unique()\n",
    "auc_not_end = bids['auction'][bids['time'] == 9772885210526315].unique()\n",
    "auc_sheet_for_start = bids[~bids['auction'].isin(auc_has_start)]\n",
    "auc_sheet_for_end = bids[~bids['auction'].isin(auc_not_end)]\n",
    "\n",
    "stat['first_bid_count'] = np.nan\n",
    "stat['last_bid_count'] = np.nan\n",
    "stat['last_2nd_bid_count'] = np.nan\n",
    "\n",
    "first_count = auc_sheet_for_start.sort_values('time').groupby('auction').first().groupby('bidder_id')['bid_id'].count()\n",
    "last_count = auc_sheet_for_end.sort_values('time').groupby('auction').last().groupby('bidder_id')['bid_id'].count()\n",
    "last_2nd = auc_sheet_for_end.sort_values('time').groupby('auction').nth(-2).groupby('bidder_id')['bid_id'].count()\n",
    "\n",
    "stat['first_bid_count'].loc[first_count.index] = first_count\n",
    "stat['last_bid_count'].loc[last_count.index] = last_count\n",
    "stat['last_2nd_bid_count'].loc[last_2nd.index] = last_2nd"
   ]
  },
  {
   "cell_type": "markdown",
   "metadata": {},
   "source": [
    "# auction"
   ]
  },
  {
   "cell_type": "code",
   "execution_count": 12,
   "metadata": {
    "collapsed": true
   },
   "outputs": [],
   "source": [
    "def prop(series, need='arg'):\n",
    "    v_count = series.value_counts()\n",
    "    \n",
    "    if need == 'arg':\n",
    "        return v_count.index[0] # the one with largest value count\n",
    "    \n",
    "    v_count = v_count.values\n",
    "    total = np.sum(v_count)\n",
    "    p = v_count / total\n",
    "    if need == 'max':\n",
    "        return np.max(p)\n",
    "    elif need == 'min':\n",
    "        return np.min(p)\n",
    "    elif need == 'mean':\n",
    "        return np.mean(p)\n",
    "    elif need == 'std':\n",
    "        return np.std(p)\n",
    "    \n",
    "# order\n",
    "def order_count(series):\n",
    "    # caution: need sort time first\n",
    "    ordered = series[series != series.shift()]\n",
    "    return ordered.count()"
   ]
  },
  {
   "cell_type": "code",
   "execution_count": 13,
   "metadata": {},
   "outputs": [
    {
     "name": "stdout",
     "output_type": "stream",
     "text": [
      "finish\n"
     ]
    }
   ],
   "source": [
    "id_g = bids.groupby('bidder_id')['auction']\n",
    "stat['auc_nuni'] = id_g.nunique()\n",
    "stat['auc_p_max'] = id_g.apply(prop, need='max')\n",
    "stat['auc_p_min'] = id_g.apply(prop, need='min')\n",
    "stat['auc_p_std'] = id_g.apply(prop, need='std')\n",
    "\n",
    "id_ip = bids.groupby(['bidder_id', 'ip'])['auction'].nunique().groupby(level='bidder_id')\n",
    "stat['auc_ip_nuni_mean'] = id_ip.mean()\n",
    "stat['auc_ip_nuni_std'] = id_ip.std(ddof=0)\n",
    "stat['auc_ip_nuni_max'] = id_ip.max()\n",
    "\n",
    "id_ip = bids.groupby(['bidder_id', 'ip'])['auction'].apply(prop, need='max').groupby(level='bidder_id')\n",
    "stat['auc_ip_count_max_max'] = id_ip.max()\n",
    "stat['auc_ip_count_max_mean'] = id_ip.mean()\n",
    "stat['auc_ip_count_max_std'] = id_ip.std(ddof=0)\n",
    "\n",
    "id_ip = bids.groupby(['bidder_id', 'ip'])['auction'].apply(prop, need='mean').groupby(level='bidder_id')\n",
    "stat['auc_ip_count_mean_mean'] = id_ip.mean()\n",
    "stat['auc_ip_count_mean_std'] = id_ip.std(ddof=0)\n",
    "\n",
    "id_ip = bids.groupby(['bidder_id', 'ip'])['auction'].apply(prop, need='std').groupby(level='bidder_id')\n",
    "stat['auc_ip_count_std_mean'] = id_ip.mean()\n",
    "\n",
    "id_url = bids.groupby(['bidder_id', 'url'])['auction'].nunique().groupby(level='bidder_id')\n",
    "stat['auc_url_nuni_mean'] = id_auc.mean()\n",
    "stat['auc_url_nuni_std'] = id_auc.std(ddof=0)\n",
    "stat['auc_url_nuni_max'] = id_auc.max()\n",
    "\n",
    "id_url = bids.groupby(['bidder_id', 'url'])['auction'].apply(prop, need='max').groupby(level='bidder_id')\n",
    "stat['auc_url_count_max_mean'] = id_auc.mean()\n",
    "stat['auc_url_count_max_std'] = id_auc.std(ddof=0)\n",
    "stat['auc_url_count_max_max'] = id_auc.max()\n",
    "\n",
    "id_url = bids.groupby(['bidder_id', 'url'])['auction'].apply(prop, need='mean').groupby(level='bidder_id')\n",
    "stat['auc_url_count_mean_mean'] = id_auc.mean()\n",
    "stat['auc_url_count_mean_std'] = id_auc.std(ddof=0)\n",
    "\n",
    "id_url = bids.groupby(['bidder_id', 'url'])['auction'].apply(prop, need='std').groupby(level='bidder_id')\n",
    "stat['auc_url_count_std_mean'] = id_auc.mean()\n",
    "\n",
    "print('finish')"
   ]
  },
  {
   "cell_type": "code",
   "execution_count": 14,
   "metadata": {
    "collapsed": true
   },
   "outputs": [],
   "source": [
    "# auc order\n",
    "stat['auc_order'] = bids.sort_values('time').groupby('bidder_id')['auction'].apply(order_count)"
   ]
  },
  {
   "cell_type": "markdown",
   "metadata": {},
   "source": [
    "# merchandise"
   ]
  },
  {
   "cell_type": "code",
   "execution_count": 16,
   "metadata": {
    "collapsed": true
   },
   "outputs": [],
   "source": [
    "id_g = bids.groupby('bidder_id')['merchandise']\n",
    "stat['merch_nuni'] = id_g.nunique()\n",
    "stat['merch_arg'] = id_g.apply(prop)\n",
    "stat['merch_p_max'] = id_g.apply(prop, need='max')\n",
    "stat['merch_p_min'] = id_g.apply(prop, need='min')\n",
    "stat['merch_p_mean'] = id_g.apply(prop, need='mean')\n",
    "stat['merch_p_std'] = id_g.apply(prop, need='std')"
   ]
  },
  {
   "cell_type": "markdown",
   "metadata": {},
   "source": [
    "# device"
   ]
  },
  {
   "cell_type": "code",
   "execution_count": 17,
   "metadata": {
    "collapsed": true
   },
   "outputs": [],
   "source": [
    "id_g = bids.groupby('bidder_id')['device']\n",
    "stat['dev_nuni'] = id_g.nunique()\n",
    "stat['dev_p_max'] = id_g.apply(prop, need='max')\n",
    "stat['dev_p_min'] = id_g.apply(prop, need='min')\n",
    "stat['dev_p_mean'] = id_g.apply(prop, need='mean')\n",
    "stat['dev_p_std'] = id_g.apply(prop, need='std')"
   ]
  },
  {
   "cell_type": "markdown",
   "metadata": {},
   "source": [
    "# time"
   ]
  },
  {
   "cell_type": "code",
   "execution_count": 18,
   "metadata": {
    "collapsed": true
   },
   "outputs": [],
   "source": [
    "id_g = bids.groupby('bidder_id')['time']\n",
    "stat['t_max'] = id_g.max()\n",
    "stat['t_min'] = id_g.min()\n",
    "stat['t_range'] = id_g.apply(lambda x: x.max() - x.min())"
   ]
  },
  {
   "cell_type": "code",
   "execution_count": 19,
   "metadata": {
    "collapsed": true
   },
   "outputs": [],
   "source": [
    "# time diff\n",
    "def dif(series, need='mean'):\n",
    "    if len(series) <= 1:\n",
    "        return 0\n",
    "    diff = series.sort_values().diff().dropna()\n",
    "    if need == 'mean':\n",
    "        return diff.mean()\n",
    "    if need == 'std':\n",
    "        return diff.std(ddof=0)\n",
    "    if need == 'max':\n",
    "        return diff.max()\n",
    "    if need == 'min':\n",
    "        return diff.min()\n",
    "    if need == 'q25':\n",
    "        return diff.quantile(q=0.25)\n",
    "    if need == 'q50':\n",
    "        return diff.quantile(q=0.5)\n",
    "    if need == 'q75':\n",
    "        return diff.quantile(q=0.75)"
   ]
  },
  {
   "cell_type": "code",
   "execution_count": 20,
   "metadata": {
    "collapsed": true
   },
   "outputs": [],
   "source": [
    "## per id\n",
    "id_g = bids.groupby('bidder_id')['time']\n",
    "stat['t_dif_mean'] = id_g.apply(dif)\n",
    "stat['t_dif_std'] = id_g.apply(dif, need='std')\n",
    "stat['t_dif_max'] = id_g.apply(dif, need='max')\n",
    "stat['t_dif_min'] = id_g.apply(dif, need='min')\n",
    "stat['t_dif_q25'] = id_g.apply(dif, need='q25')\n",
    "stat['t_dif_q50'] = id_g.apply(dif, need='q50')\n",
    "stat['t_dif_q75'] = id_g.apply(dif, need='q75')"
   ]
  },
  {
   "cell_type": "code",
   "execution_count": 21,
   "metadata": {},
   "outputs": [
    {
     "name": "stdout",
     "output_type": "stream",
     "text": [
      "finish\n"
     ]
    }
   ],
   "source": [
    "## per id per auc\n",
    "id_auc = bids.groupby(['bidder_id', 'auction'])['time'].apply(lambda x: x.max() - x.min()).groupby(level='bidder_id')\n",
    "stat['t_range_auc_mean'] = id_auc.mean()\n",
    "stat['t_range_auc_std'] = id_auc.std(ddof=0)\n",
    "\n",
    "id_auc = bids.groupby(['bidder_id', 'auction'])['time'].apply(dif, need='min').groupby(level='bidder_id')\n",
    "stat['t_dif_auc_min_min'] = id_auc.min()\n",
    "stat['t_dif_auc_min_mean'] = id_auc.mean()\n",
    "stat['t_dif_auc_min_std'] = id_auc.std(ddof=0)\n",
    "\n",
    "\n",
    "id_auc = bids.groupby(['bidder_id', 'auction'])['time'].apply(dif, need='max').groupby(level='bidder_id')\n",
    "stat['t_dif_auc_max_max'] = id_auc.max()\n",
    "stat['t_dif_auc_max_mean'] = id_auc.mean()\n",
    "stat['t_dif_auc_max_std'] = id_auc.std(ddof=0)\n",
    "\n",
    "id_auc = bids.groupby(['bidder_id', 'auction'])['time'].apply(dif, need='mean').groupby(level='bidder_id')\n",
    "stat['t_dif_auc_mean_mean'] = id_auc.mean()\n",
    "stat['t_dif_auc_mean_std'] = id_auc.std(ddof=0)\n",
    "\n",
    "id_auc = bids.groupby(['bidder_id', 'auction'])['time'].apply(dif, need='std').groupby(level='bidder_id')\n",
    "stat['t_dif_auc_std_mean'] = id_auc.mean()\n",
    "\n",
    "print('finish')"
   ]
  },
  {
   "cell_type": "code",
   "execution_count": 22,
   "metadata": {},
   "outputs": [
    {
     "name": "stderr",
     "output_type": "stream",
     "text": [
      "C:\\Users\\carey\\Anaconda3\\lib\\site-packages\\pandas\\core\\indexing.py:179: SettingWithCopyWarning: \n",
      "A value is trying to be set on a copy of a slice from a DataFrame\n",
      "\n",
      "See the caveats in the documentation: http://pandas.pydata.org/pandas-docs/stable/indexing.html#indexing-view-versus-copy\n",
      "  self._setitem_with_indexer(indexer, value)\n"
     ]
    },
    {
     "name": "stdout",
     "output_type": "stream",
     "text": [
      "finish\n"
     ]
    }
   ],
   "source": [
    "# t resp\n",
    "bids['t_resp'] = np.nan\n",
    "auc_groups = bids.groupby('auction')\n",
    "for name, group in auc_groups:\n",
    "    group = group.sort_values('time')[['bidder_id', 'time']]\n",
    "    group['t_dif'] = group['time'].diff()\n",
    "    t_resp = group['t_dif'][group['bidder_id'] != group['bidder_id'].shift()].dropna()\n",
    "    bids['t_resp'].loc[t_resp.index] = t_resp\n",
    "    \n",
    "print('finish')"
   ]
  },
  {
   "cell_type": "code",
   "execution_count": 23,
   "metadata": {
    "collapsed": true
   },
   "outputs": [],
   "source": [
    "id_g = bids.groupby('bidder_id')['t_resp']\n",
    "\n",
    "stat['t_resp_min'] = id_g.min()\n",
    "stat['t_resp_max'] = id_g.max()\n",
    "stat['t_resp_mean'] = id_g.apply(lambda x: x.dropna().mean())\n",
    "stat['t_resp_std'] = id_g.apply(lambda x: x.dropna().std(ddof=0))\n",
    "stat['t_resp_median'] = id_g.apply(lambda x: x.dropna().median())"
   ]
  },
  {
   "cell_type": "code",
   "execution_count": 24,
   "metadata": {
    "collapsed": true
   },
   "outputs": [],
   "source": [
    "id_auc = bids.groupby(['bidder_id', 'auction'])['t_resp'].apply(lambda x: x.dropna().mean()).groupby(level='bidder_id')\n",
    "stat['t_resp_auc_mean_mean'] = id_auc.apply(lambda x: x.dropna().mean())\n",
    "stat['t_resp_auc_mean_std'] = id_auc.apply(lambda x: x.dropna().std(ddof=0))\n",
    "\n",
    "id_auc = bids.groupby(['bidder_id', 'auction'])['t_resp'].apply(lambda x: x.dropna().median()).groupby(level='bidder_id')\n",
    "stat['t_resp_auc_median_mean'] = id_auc.apply(lambda x: x.dropna().mean())\n",
    "stat['t_resp_auc_median_std'] = id_auc.apply(lambda x: x.dropna().std(ddof=0))\n",
    "\n",
    "id_auc = bids.groupby(['bidder_id', 'auction'])['t_resp'].apply(lambda x: x.dropna().std()).groupby(level='bidder_id')\n",
    "stat['t_resp_auc_std_mean'] = id_auc.apply(lambda x: x.dropna().mean())"
   ]
  },
  {
   "cell_type": "code",
   "execution_count": 25,
   "metadata": {
    "collapsed": true
   },
   "outputs": [],
   "source": [
    "# t dup\n",
    "id_groups = bids.groupby('bidder_id')\n",
    "stat['t_dup_count'] = id_groups['time'].apply(lambda x: x.duplicated(keep=False).count())"
   ]
  },
  {
   "cell_type": "code",
   "execution_count": 26,
   "metadata": {},
   "outputs": [
    {
     "name": "stdout",
     "output_type": "stream",
     "text": [
      "finish\n"
     ]
    }
   ],
   "source": [
    "# t slices\n",
    "ts_1 = np.linspace(9631916842105263, 9645558894736842, 85)\n",
    "ts_2 = np.linspace(9695580000000000, 9709222052631578, 85)\n",
    "ts_3 = np.linspace(9759243157894736, 9772885210526315, 85)\n",
    "ts = np.append(ts_1, [ts_2, ts_3])\n",
    "\n",
    "stat_ts = pd.DataFrame(index=bids['bidder_id'].unique())\n",
    "\n",
    "for i in range(len(ts) - 1):\n",
    "    ts_sheet = bids[bids['time'].between(ts[i], ts[i+1])]\n",
    "    ts_bid = ts_sheet.groupby('bidder_id')['bid_id'].count()\n",
    "    stat_ts['ts_' + str(i)] = np.nan\n",
    "    stat_ts['ts_' + str(i)].loc[ts_bid.index] = ts_bid\n",
    "\n",
    "print('finish')"
   ]
  },
  {
   "cell_type": "code",
   "execution_count": 27,
   "metadata": {
    "collapsed": true
   },
   "outputs": [],
   "source": [
    "stat['tl_mean'] = stat_ts.mean(axis=1, skipna=True, numeric_only=True)\n",
    "stat['tl_std'] = stat_ts.std(axis=1, ddof=0, skipna=True, numeric_only=True)\n",
    "stat['tl_max'] = stat_ts.max(axis=1, skipna=True, numeric_only=True)\n",
    "stat['tl_min'] = stat_ts.min(axis=1, skipna=True, numeric_only=True)\n",
    "stat['tl_q25'] = stat_ts.quantile(q=0.25, axis=1, numeric_only=True)\n",
    "stat['tl_q50'] = stat_ts.quantile(q=0.5, axis=1, numeric_only=True)\n",
    "stat['tl_q75'] = stat_ts.quantile(q=0.75, axis=1, numeric_only=True)"
   ]
  },
  {
   "cell_type": "markdown",
   "metadata": {},
   "source": [
    "# country"
   ]
  },
  {
   "cell_type": "code",
   "execution_count": 28,
   "metadata": {},
   "outputs": [
    {
     "name": "stdout",
     "output_type": "stream",
     "text": [
      "finish\n"
     ]
    }
   ],
   "source": [
    "id_g = bids.groupby('bidder_id')['country']\n",
    "stat['cty_nuni'] = id_g.nunique()\n",
    "stat['cty_arg'] = id_g.apply(prop)\n",
    "stat['cty_p_max'] = id_g.apply(prop, need='max')\n",
    "stat['cty_p_min'] = id_g.apply(prop, need='min')\n",
    "stat['cty_p_mean'] = id_g.apply(prop, need='mean')\n",
    "stat['cty_p_std'] = id_g.apply(prop, need='std')\n",
    "stat['cty_order'] = bids.sort_values('time').groupby('bidder_id')['country'].apply(order_count)\n",
    "\n",
    "id_auc = bids.groupby(['bidder_id', 'auction'])['country'].apply(prop, need='max').groupby(level='bidder_id')\n",
    "stat['cty_auc_p_max_max'] = id_auc.max()\n",
    "stat['cty_auc_p_max_mean'] = id_auc.mean()\n",
    "stat['cty_auc_p_max_std'] = id_auc.std(ddof=0)\n",
    "\n",
    "id_auc = bids.groupby(['bidder_id', 'auction'])['country'].apply(prop, need='min').groupby(level='bidder_id')\n",
    "stat['cty_auc_p_min_min'] = id_auc.min()\n",
    "stat['cty_auc_p_min_mean'] = id_auc.mean()\n",
    "stat['cty_auc_p_min_std'] = id_auc.std(ddof=0)\n",
    "\n",
    "id_auc = bids.groupby(['bidder_id', 'auction'])['country'].apply(prop, need='mean').groupby(level='bidder_id')\n",
    "stat['cty_auc_p_mean_mean'] = id_auc.mean()\n",
    "stat['cty_auc_p_mean_std'] = id_auc.std(ddof=0)\n",
    "\n",
    "id_auc = bids.groupby(['bidder_id', 'auction'])['country'].apply(prop, need='std').groupby(level='bidder_id')\n",
    "stat['cty_auc_p_std_mean'] = id_auc.mean()\n",
    "\n",
    "print('finish')"
   ]
  },
  {
   "cell_type": "markdown",
   "metadata": {},
   "source": [
    "# ip"
   ]
  },
  {
   "cell_type": "code",
   "execution_count": 29,
   "metadata": {},
   "outputs": [
    {
     "name": "stdout",
     "output_type": "stream",
     "text": [
      "finish\n"
     ]
    }
   ],
   "source": [
    "id_g = bids.groupby('bidder_id')['ip']\n",
    "stat['ip_nuni'] = id_g.nunique()\n",
    "stat['ip_p_max'] = id_g.apply(prop, need='max')\n",
    "stat['ip_p_min'] = id_g.apply(prop, need='min')\n",
    "stat['ip_p_mean'] = id_g.apply(prop, need='mean')\n",
    "stat['ip_p_std'] = id_g.apply(prop, need='std')\n",
    "\n",
    "id_auc = bids.groupby(['bidder_id', 'auction'])['ip'].apply(prop, need='max').groupby(level='bidder_id')\n",
    "stat['ip_auc_p_max_max'] = id_auc.max()\n",
    "stat['ip_auc_p_max_mean'] = id_auc.mean()\n",
    "stat['ip_auc_p_max_std'] = id_auc.std(ddof=0)\n",
    "\n",
    "id_auc = bids.groupby(['bidder_id', 'auction'])['ip'].apply(prop, need='min').groupby(level='bidder_id')\n",
    "stat['ip_auc_p_min_min'] = id_auc.min()\n",
    "stat['ip_auc_p_min_mean'] = id_auc.mean()\n",
    "stat['ip_auc_p_min_std'] = id_auc.std(ddof=0)\n",
    "\n",
    "id_auc = bids.groupby(['bidder_id', 'auction'])['ip'].apply(prop, need='mean').groupby(level='bidder_id')\n",
    "stat['ip_auc_p_mean_mean'] = id_auc.mean()\n",
    "stat['ip_auc_p_mean_std'] = id_auc.std(ddof=0)\n",
    "\n",
    "id_auc = bids.groupby(['bidder_id', 'auction'])['ip'].apply(prop, need='std').groupby(level='bidder_id')\n",
    "stat['ip_auc_p_std_mean'] = id_auc.mean()\n",
    "\n",
    "print('finish')"
   ]
  },
  {
   "cell_type": "code",
   "execution_count": 30,
   "metadata": {
    "collapsed": true
   },
   "outputs": [],
   "source": [
    "# ip order\n",
    "id_g = bids.sort_values('time').groupby('bidder_id')['ip']\n",
    "stat['ip_order'] = id_g.apply(order_count)"
   ]
  },
  {
   "cell_type": "markdown",
   "metadata": {},
   "source": [
    "# url"
   ]
  },
  {
   "cell_type": "code",
   "execution_count": 31,
   "metadata": {},
   "outputs": [
    {
     "name": "stdout",
     "output_type": "stream",
     "text": [
      "finish\n"
     ]
    }
   ],
   "source": [
    "id_g = bids.groupby('bidder_id')['url']\n",
    "stat['url_nuni'] = id_g.nunique()\n",
    "stat['url_p_max'] = id_g.apply(prop, need='max')\n",
    "stat['url_p_min'] = id_g.apply(prop, need='min')\n",
    "stat['url_p_mean'] = id_g.apply(prop, need='mean')\n",
    "stat['url_p_std'] = id_g.apply(prop, need='std')\n",
    "\n",
    "id_auc = bids.groupby(['bidder_id', 'auction'])['url'].apply(prop, need='max').groupby(level='bidder_id')\n",
    "stat['url_auc_p_max_max'] = id_auc.max()\n",
    "stat['url_auc_p_max_mean'] = id_auc.mean()\n",
    "stat['url_auc_p_max_std'] = id_auc.std(ddof=0)\n",
    "\n",
    "id_auc = bids.groupby(['bidder_id', 'auction'])['url'].apply(prop, need='min').groupby(level='bidder_id')\n",
    "stat['url_auc_p_min_min'] = id_auc.min()\n",
    "stat['url_auc_p_min_mean'] = id_auc.mean()\n",
    "stat['url_auc_p_min_std'] = id_auc.std(ddof=0)\n",
    "\n",
    "id_auc = bids.groupby(['bidder_id', 'auction'])['url'].apply(prop, need='mean').groupby(level='bidder_id')\n",
    "stat['url_auc_p_mean_mean'] = id_auc.mean()\n",
    "stat['url_auc_p_mean_std'] = id_auc.std(ddof=0)\n",
    "\n",
    "id_auc = bids.groupby(['bidder_id', 'auction'])['url'].apply(prop, need='std').groupby(level='bidder_id')\n",
    "stat['url_auc_p_std_mean'] = id_auc.mean()\n",
    "\n",
    "print('finish')"
   ]
  },
  {
   "cell_type": "code",
   "execution_count": 32,
   "metadata": {
    "collapsed": true
   },
   "outputs": [],
   "source": [
    "# url order\n",
    "id_g = bids.sort_values('time').groupby('bidder_id')['url']\n",
    "stat['url_order'] = id_g.apply(order_count)"
   ]
  },
  {
   "cell_type": "code",
   "execution_count": 34,
   "metadata": {
    "collapsed": true
   },
   "outputs": [],
   "source": [
    "filename = 'stat_0602'\n",
    "\n",
    "stat.to_csv('stat/' + filename + '.csv', index_label='bidder_id')"
   ]
  },
  {
   "cell_type": "code",
   "execution_count": null,
   "metadata": {
    "collapsed": true
   },
   "outputs": [],
   "source": []
  }
 ],
 "metadata": {
  "kernelspec": {
   "display_name": "Python 3",
   "language": "python",
   "name": "python3"
  },
  "language_info": {
   "codemirror_mode": {
    "name": "ipython",
    "version": 3
   },
   "file_extension": ".py",
   "mimetype": "text/x-python",
   "name": "python",
   "nbconvert_exporter": "python",
   "pygments_lexer": "ipython3",
   "version": "3.6.1"
  }
 },
 "nbformat": 4,
 "nbformat_minor": 2
}
