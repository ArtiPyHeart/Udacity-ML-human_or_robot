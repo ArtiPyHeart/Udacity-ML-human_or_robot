{
 "cells": [
  {
   "cell_type": "code",
   "execution_count": 1,
   "metadata": {
    "collapsed": true
   },
   "outputs": [],
   "source": [
    "import numpy as np\n",
    "import pandas as pd\n",
    "import matplotlib as mlt\n",
    "import matplotlib.pyplot as plt\n",
    "import seaborn as sns\n",
    "\n",
    "%matplotlib inline"
   ]
  },
  {
   "cell_type": "markdown",
   "metadata": {},
   "source": [
    "# raw data"
   ]
  },
  {
   "cell_type": "code",
   "execution_count": 2,
   "metadata": {
    "collapsed": true
   },
   "outputs": [],
   "source": [
    "bids = pd.read_csv('data/bids.csv')\n",
    "trains = pd.read_csv('data/train.csv')\n",
    "tests = pd.read_csv('data/test.csv')"
   ]
  },
  {
   "cell_type": "markdown",
   "metadata": {},
   "source": [
    "## info"
   ]
  },
  {
   "cell_type": "code",
   "execution_count": 3,
   "metadata": {},
   "outputs": [
    {
     "name": "stdout",
     "output_type": "stream",
     "text": [
      "<class 'pandas.core.frame.DataFrame'>\n",
      "RangeIndex: 2013 entries, 0 to 2012\n",
      "Data columns (total 4 columns):\n",
      "bidder_id          2013 non-null object\n",
      "payment_account    2013 non-null object\n",
      "address            2013 non-null object\n",
      "outcome            2013 non-null float64\n",
      "dtypes: float64(1), object(3)\n",
      "memory usage: 63.0+ KB\n"
     ]
    }
   ],
   "source": [
    "trains.info()"
   ]
  },
  {
   "cell_type": "code",
   "execution_count": 4,
   "metadata": {},
   "outputs": [
    {
     "name": "stdout",
     "output_type": "stream",
     "text": [
      "<class 'pandas.core.frame.DataFrame'>\n",
      "RangeIndex: 4700 entries, 0 to 4699\n",
      "Data columns (total 3 columns):\n",
      "bidder_id          4700 non-null object\n",
      "payment_account    4700 non-null object\n",
      "address            4700 non-null object\n",
      "dtypes: object(3)\n",
      "memory usage: 110.2+ KB\n"
     ]
    }
   ],
   "source": [
    "tests.info()"
   ]
  },
  {
   "cell_type": "code",
   "execution_count": 5,
   "metadata": {},
   "outputs": [
    {
     "name": "stdout",
     "output_type": "stream",
     "text": [
      "Unique trains bidder id: 2013\n",
      "Unique trains payment account: 2013\n",
      "Unique trains address: 2013\n",
      "Unique tests bidder id: 4700\n",
      "Unique tests payment account: 4700\n",
      "Unique tests address: 4700\n"
     ]
    }
   ],
   "source": [
    "print('Unique trains bidder id: ' + str(trains['bidder_id'].nunique()))\n",
    "print('Unique trains payment account: ' + str(trains['payment_account'].nunique()))\n",
    "print('Unique trains address: ' + str(trains['address'].nunique()))\n",
    "print('Unique tests bidder id: ' + str(tests['bidder_id'].nunique()))\n",
    "print('Unique tests payment account: ' + str(tests['payment_account'].nunique()))\n",
    "print('Unique tests address: ' + str(tests['address'].nunique()))"
   ]
  },
  {
   "cell_type": "code",
   "execution_count": 6,
   "metadata": {},
   "outputs": [
    {
     "name": "stdout",
     "output_type": "stream",
     "text": [
      "Robot count: 103\n",
      "Human count: 1910\n"
     ]
    }
   ],
   "source": [
    "print('Robot count: ' + str(trains['outcome'][trains['outcome'] == 1].count()))\n",
    "print('Human count: ' + str(trains['outcome'][trains['outcome'] == 0].count()))"
   ]
  },
  {
   "cell_type": "code",
   "execution_count": 7,
   "metadata": {},
   "outputs": [
    {
     "data": {
      "text/html": [
       "<div>\n",
       "<style>\n",
       "    .dataframe thead tr:only-child th {\n",
       "        text-align: right;\n",
       "    }\n",
       "\n",
       "    .dataframe thead th {\n",
       "        text-align: left;\n",
       "    }\n",
       "\n",
       "    .dataframe tbody tr th {\n",
       "        vertical-align: top;\n",
       "    }\n",
       "</style>\n",
       "<table border=\"1\" class=\"dataframe\">\n",
       "  <thead>\n",
       "    <tr style=\"text-align: right;\">\n",
       "      <th></th>\n",
       "      <th>bid_id</th>\n",
       "      <th>bidder_id</th>\n",
       "      <th>auction</th>\n",
       "      <th>merchandise</th>\n",
       "      <th>device</th>\n",
       "      <th>time</th>\n",
       "      <th>country</th>\n",
       "      <th>ip</th>\n",
       "      <th>url</th>\n",
       "    </tr>\n",
       "  </thead>\n",
       "  <tbody>\n",
       "    <tr>\n",
       "      <th>0</th>\n",
       "      <td>0</td>\n",
       "      <td>8dac2b259fd1c6d1120e519fb1ac14fbqvax8</td>\n",
       "      <td>ewmzr</td>\n",
       "      <td>jewelry</td>\n",
       "      <td>phone0</td>\n",
       "      <td>9759243157894736</td>\n",
       "      <td>us</td>\n",
       "      <td>69.166.231.58</td>\n",
       "      <td>vasstdc27m7nks3</td>\n",
       "    </tr>\n",
       "    <tr>\n",
       "      <th>1</th>\n",
       "      <td>1</td>\n",
       "      <td>668d393e858e8126275433046bbd35c6tywop</td>\n",
       "      <td>aeqok</td>\n",
       "      <td>furniture</td>\n",
       "      <td>phone1</td>\n",
       "      <td>9759243157894736</td>\n",
       "      <td>in</td>\n",
       "      <td>50.201.125.84</td>\n",
       "      <td>jmqlhflrzwuay9c</td>\n",
       "    </tr>\n",
       "  </tbody>\n",
       "</table>\n",
       "</div>"
      ],
      "text/plain": [
       "   bid_id                              bidder_id auction merchandise  device  \\\n",
       "0       0  8dac2b259fd1c6d1120e519fb1ac14fbqvax8   ewmzr     jewelry  phone0   \n",
       "1       1  668d393e858e8126275433046bbd35c6tywop   aeqok   furniture  phone1   \n",
       "\n",
       "               time country             ip              url  \n",
       "0  9759243157894736      us  69.166.231.58  vasstdc27m7nks3  \n",
       "1  9759243157894736      in  50.201.125.84  jmqlhflrzwuay9c  "
      ]
     },
     "execution_count": 7,
     "metadata": {},
     "output_type": "execute_result"
    }
   ],
   "source": [
    "bids.head(2)"
   ]
  },
  {
   "cell_type": "code",
   "execution_count": 8,
   "metadata": {},
   "outputs": [
    {
     "name": "stdout",
     "output_type": "stream",
     "text": [
      "<class 'pandas.core.frame.DataFrame'>\n",
      "RangeIndex: 7656334 entries, 0 to 7656333\n",
      "Data columns (total 9 columns):\n",
      "bid_id         7656334 non-null int64\n",
      "bidder_id      7656334 non-null object\n",
      "auction        7656334 non-null object\n",
      "merchandise    7656334 non-null object\n",
      "device         7656334 non-null object\n",
      "time           7656334 non-null int64\n",
      "country        7647475 non-null object\n",
      "ip             7656334 non-null object\n",
      "url            7656334 non-null object\n",
      "dtypes: int64(2), object(7)\n",
      "memory usage: 525.7+ MB\n"
     ]
    }
   ],
   "source": [
    "bids.info(verbose=True, null_counts=True)"
   ]
  },
  {
   "cell_type": "code",
   "execution_count": 9,
   "metadata": {},
   "outputs": [
    {
     "name": "stdout",
     "output_type": "stream",
     "text": [
      "Unique bid_id: 7656334\n",
      "Unique bidder_id: 6614\n",
      "Unique auction: 15051\n",
      "Unique merchandise: 10\n",
      "Unique device: 7351\n",
      "Unique time: 776529\n",
      "Unique country: 199\n",
      "Unique ip: 2303991\n",
      "Unique url: 1786351\n"
     ]
    }
   ],
   "source": [
    "print('Unique bid_id: ' + str(bids['bid_id'].nunique()))\n",
    "print('Unique bidder_id: ' + str(bids['bidder_id'].nunique()))\n",
    "print('Unique auction: ' + str(bids['auction'].nunique()))\n",
    "print('Unique merchandise: ' + str(bids['merchandise'].nunique()))\n",
    "print('Unique device: ' + str(bids['device'].nunique()))\n",
    "print('Unique time: ' + str(bids['time'].nunique()))\n",
    "print('Unique country: ' + str(bids['country'].nunique()))\n",
    "print('Unique ip: ' + str(bids['ip'].nunique()))\n",
    "print('Unique url: ' + str(bids['url'].nunique()))"
   ]
  },
  {
   "cell_type": "code",
   "execution_count": 4,
   "metadata": {
    "collapsed": true
   },
   "outputs": [],
   "source": [
    "bids_sheet = pd.merge(bids, trains[['bidder_id', 'outcome']], how='left', on='bidder_id')\n",
    "test_sheet = bids_sheet[bids_sheet['outcome'].isnull()]\n",
    "bot_sheet = bids_sheet[bids_sheet['outcome'] == 1]\n",
    "human_sheet = bids_sheet[bids_sheet['outcome'] == 0]"
   ]
  },
  {
   "cell_type": "code",
   "execution_count": 12,
   "metadata": {},
   "outputs": [
    {
     "name": "stdout",
     "output_type": "stream",
     "text": [
      "Train id count: 1984\n",
      "Test id count: 4630\n"
     ]
    }
   ],
   "source": [
    "print('Train id count: ' + str(bot_sheet['bidder_id'].nunique() + human_sheet['bidder_id'].nunique()))\n",
    "print('Test id count: ' + str(test_sheet['bidder_id'].nunique()))"
   ]
  },
  {
   "cell_type": "code",
   "execution_count": 26,
   "metadata": {
    "collapsed": true
   },
   "outputs": [],
   "source": [
    "test_id = test_sheet['bidder_id'][test_sheet['country'].isnull()].unique()\n",
    "bot_id = bot_sheet['bidder_id'][bot_sheet['country'].isnull()].unique()\n",
    "human_id = human_sheet['bidder_id'][human_sheet['country'].isnull()].unique()"
   ]
  },
  {
   "cell_type": "markdown",
   "metadata": {},
   "source": [
    "## NA country stat"
   ]
  },
  {
   "cell_type": "code",
   "execution_count": 51,
   "metadata": {
    "collapsed": true
   },
   "outputs": [],
   "source": [
    "na_bot_sheet = bot_sheet[bot_sheet['bidder_id'].isin(bot_id)].fillna('unknown')\n",
    "na_human_sheet = human_sheet[human_sheet['bidder_id'].isin(human_id)].fillna('unknown')\n",
    "na_test_sheet = test_sheet[test_sheet['bidder_id'].isin(test_id)].fillna('unknown')"
   ]
  },
  {
   "cell_type": "code",
   "execution_count": 52,
   "metadata": {
    "collapsed": true
   },
   "outputs": [],
   "source": [
    "def country_p(series):\n",
    "    na_country = series[series == 'unknown'].count()\n",
    "    total = series.count()\n",
    "    return na_country / total"
   ]
  },
  {
   "cell_type": "code",
   "execution_count": 54,
   "metadata": {},
   "outputs": [
    {
     "data": {
      "text/plain": [
       "bidder_id\n",
       "334714f005e994d46cf4d18093dd4d05fyxc8    0.002646\n",
       "3714da7069a5205137cacf89ab3a136ffx2u2    0.000534\n",
       "458c8c4e10e5c1b29e3fbe5ee56d46e8y3fb3    0.000858\n",
       "52d8066e28f168e5bee769559ead307e1go7e    0.000385\n",
       "5f529b5ee68b60482c5d0c56ee91f3c2cjrmx    0.007511\n",
       "6362c8d61774cfcb6ada7cea1be63678hxkfz    0.001267\n",
       "7b31d9d8b5e749cdd2c300cbcbb5f875kjlsz    0.037477\n",
       "8bf07d8631a2808f2c869e27afad2d41swgkd    0.005140\n",
       "8f086b809805064f3c4a5dd48327c0f51yplz    0.006079\n",
       "9434778d2268f1fa2a8ede48c0cd05c097zey    0.004128\n",
       "9655ccc7c0c193f1549475f02c54dce45kjw7    0.000531\n",
       "9be39ea5a0612fae7bc43a25a6d10856l3qaj    0.004983\n",
       "a0660fe8a46b9cb6b02e7b0c50eef6a905vt6    0.001563\n",
       "aaa686462ebb950550fc1c6136ffb273vkrc5    0.007092\n",
       "ae6758a627a111f6d6b530b0154c429566o4k    0.022082\n",
       "c277151116ce38d8245f9f2308807af8t4nnj    0.006931\n",
       "Name: country, dtype: float64"
      ]
     },
     "execution_count": 54,
     "metadata": {},
     "output_type": "execute_result"
    }
   ],
   "source": [
    "na_bot_sheet.groupby('bidder_id')['country'].apply(country_p)"
   ]
  },
  {
   "cell_type": "code",
   "execution_count": 74,
   "metadata": {},
   "outputs": [
    {
     "name": "stdout",
     "output_type": "stream",
     "text": [
      "168\n"
     ]
    },
    {
     "data": {
      "text/plain": [
       "bidder_id\n",
       "29b8af2fea3881ef61911612372dac41vczqv    1.00\n",
       "d8a10762de6d62c087a0a8f0e61cf78bbgke6    0.75\n",
       "Name: country, dtype: float64"
      ]
     },
     "execution_count": 74,
     "metadata": {},
     "output_type": "execute_result"
    }
   ],
   "source": [
    "na_human_cty_p = na_human_sheet.groupby('bidder_id')['country'].apply(country_p)\n",
    "print(len(na_human_cty_p))\n",
    "na_human_cty_p[na_human_cty_p >= 0.5]"
   ]
  },
  {
   "cell_type": "code",
   "execution_count": 75,
   "metadata": {},
   "outputs": [
    {
     "name": "stdout",
     "output_type": "stream",
     "text": [
      "398\n"
     ]
    },
    {
     "data": {
      "text/plain": [
       "bidder_id\n",
       "17bda4ecaa93e80a2dc4a0d4ac351dd8kjodg    0.5\n",
       "5e05ec450e2dd64d7996a08bbbca4f126nzzk    1.0\n",
       "88ef9cfdbec4c9e33f6c2e0b512e7a01dp2p2    1.0\n",
       "96bd76b36803ecb04e24f5f3fbc4759934qvv    0.5\n",
       "bfcc04fba5e5af63898d4eeaec0852a5t0kcz    0.5\n",
       "df20f216cbb0b0df5a7b2e94b16a7853iyw9g    1.0\n",
       "f3ab8c9ecc0d021ebc81e89f20c8267bn812w    1.0\n",
       "Name: country, dtype: float64"
      ]
     },
     "execution_count": 75,
     "metadata": {},
     "output_type": "execute_result"
    }
   ],
   "source": [
    "na_test_cty_p = na_test_sheet.groupby('bidder_id')['country'].apply(country_p)\n",
    "print(len(na_test_cty_p))\n",
    "na_test_cty_p[na_test_cty_p >= 0.5]"
   ]
  },
  {
   "cell_type": "markdown",
   "metadata": {},
   "source": [
    "## naive stat"
   ]
  },
  {
   "cell_type": "code",
   "execution_count": 6,
   "metadata": {
    "collapsed": true
   },
   "outputs": [],
   "source": [
    "bot_sheet = bot_sheet.fillna('unknown')\n",
    "human_sheet = human_sheet.fillna('unknown')\n",
    "test_sheet = test_sheet.fillna('unknown')"
   ]
  },
  {
   "cell_type": "code",
   "execution_count": 14,
   "metadata": {
    "collapsed": true
   },
   "outputs": [],
   "source": [
    "naive_stat = pd.DataFrame(index=bids.columns.drop('bidder_id'), \n",
    "                          columns=['h_mean', 'h_std', 'h_max', 'h_min', 'b_mean', 'b_std', 'b_max', 'b_min', 't_mean', 't_std', 't_max', 't_min'], \n",
    "                          data=np.nan)"
   ]
  },
  {
   "cell_type": "code",
   "execution_count": 17,
   "metadata": {
    "collapsed": true
   },
   "outputs": [],
   "source": [
    "for i in bids.columns.drop('bidder_id'):\n",
    "    if i == 'bid_id':\n",
    "        human_g = human_sheet.groupby('bidder_id')[i].count()\n",
    "        bot_g = bot_sheet.groupby('bidder_id')[i].count()\n",
    "        test_g = test_sheet.groupby('bidder_id')[i].count()\n",
    "    else:\n",
    "        human_g = human_sheet.groupby('bidder_id')[i].nunique()\n",
    "        bot_g = bot_sheet.groupby('bidder_id')[i].nunique()\n",
    "        test_g = test_sheet.groupby('bidder_id')[i].nunique()\n",
    "    naive_stat.loc[i, 'h_mean'] = human_g.mean()\n",
    "    naive_stat.loc[i, 'h_std'] = human_g.std()\n",
    "    naive_stat.loc[i, 'h_max'] = human_g.max()\n",
    "    naive_stat.loc[i, 'h_min'] = human_g.min()\n",
    "    naive_stat.loc[i, 'b_mean'] = bot_g.mean()\n",
    "    naive_stat.loc[i, 'b_std'] = bot_g.std()\n",
    "    naive_stat.loc[i, 'b_max'] = bot_g.max()\n",
    "    naive_stat.loc[i, 'b_min'] = bot_g.min()\n",
    "    naive_stat.loc[i, 't_mean'] = test_g.mean()\n",
    "    naive_stat.loc[i, 't_std'] = test_g.std()\n",
    "    naive_stat.loc[i, 't_max'] = test_g.max()\n",
    "    naive_stat.loc[i, 't_min'] = test_g.min()"
   ]
  },
  {
   "cell_type": "code",
   "execution_count": 18,
   "metadata": {
    "scrolled": true
   },
   "outputs": [
    {
     "data": {
      "text/html": [
       "<div>\n",
       "<style>\n",
       "    .dataframe thead tr:only-child th {\n",
       "        text-align: right;\n",
       "    }\n",
       "\n",
       "    .dataframe thead th {\n",
       "        text-align: left;\n",
       "    }\n",
       "\n",
       "    .dataframe tbody tr th {\n",
       "        vertical-align: top;\n",
       "    }\n",
       "</style>\n",
       "<table border=\"1\" class=\"dataframe\">\n",
       "  <thead>\n",
       "    <tr style=\"text-align: right;\">\n",
       "      <th></th>\n",
       "      <th>h_mean</th>\n",
       "      <th>h_std</th>\n",
       "      <th>h_max</th>\n",
       "      <th>h_min</th>\n",
       "      <th>b_mean</th>\n",
       "      <th>b_std</th>\n",
       "      <th>b_max</th>\n",
       "      <th>b_min</th>\n",
       "      <th>t_mean</th>\n",
       "      <th>t_std</th>\n",
       "      <th>t_max</th>\n",
       "      <th>t_min</th>\n",
       "    </tr>\n",
       "  </thead>\n",
       "  <tbody>\n",
       "    <tr>\n",
       "      <th>bid_id</th>\n",
       "      <td>1413.507709</td>\n",
       "      <td>14597.535155</td>\n",
       "      <td>515033.0</td>\n",
       "      <td>1.0</td>\n",
       "      <td>4004.038835</td>\n",
       "      <td>16370.097403</td>\n",
       "      <td>161935.0</td>\n",
       "      <td>1.0</td>\n",
       "      <td>990.304536</td>\n",
       "      <td>6227.856448</td>\n",
       "      <td>168995.0</td>\n",
       "      <td>1.0</td>\n",
       "    </tr>\n",
       "    <tr>\n",
       "      <th>auction</th>\n",
       "      <td>58.070707</td>\n",
       "      <td>142.933476</td>\n",
       "      <td>1623.0</td>\n",
       "      <td>1.0</td>\n",
       "      <td>145.038835</td>\n",
       "      <td>195.103186</td>\n",
       "      <td>1018.0</td>\n",
       "      <td>1.0</td>\n",
       "      <td>55.760475</td>\n",
       "      <td>124.486828</td>\n",
       "      <td>1726.0</td>\n",
       "      <td>1.0</td>\n",
       "    </tr>\n",
       "    <tr>\n",
       "      <th>merchandise</th>\n",
       "      <td>1.000532</td>\n",
       "      <td>0.023057</td>\n",
       "      <td>2.0</td>\n",
       "      <td>1.0</td>\n",
       "      <td>1.000000</td>\n",
       "      <td>0.000000</td>\n",
       "      <td>1.0</td>\n",
       "      <td>1.0</td>\n",
       "      <td>1.000000</td>\n",
       "      <td>0.000000</td>\n",
       "      <td>1.0</td>\n",
       "      <td>1.0</td>\n",
       "    </tr>\n",
       "    <tr>\n",
       "      <th>device</th>\n",
       "      <td>73.947368</td>\n",
       "      <td>184.560908</td>\n",
       "      <td>2618.0</td>\n",
       "      <td>1.0</td>\n",
       "      <td>163.611650</td>\n",
       "      <td>222.811854</td>\n",
       "      <td>1144.0</td>\n",
       "      <td>1.0</td>\n",
       "      <td>71.224406</td>\n",
       "      <td>164.947305</td>\n",
       "      <td>2069.0</td>\n",
       "      <td>1.0</td>\n",
       "    </tr>\n",
       "    <tr>\n",
       "      <th>time</th>\n",
       "      <td>1175.801170</td>\n",
       "      <td>9312.844552</td>\n",
       "      <td>283463.0</td>\n",
       "      <td>1.0</td>\n",
       "      <td>3670.582524</td>\n",
       "      <td>13971.629025</td>\n",
       "      <td>136980.0</td>\n",
       "      <td>1.0</td>\n",
       "      <td>918.739957</td>\n",
       "      <td>5334.479886</td>\n",
       "      <td>135480.0</td>\n",
       "      <td>1.0</td>\n",
       "    </tr>\n",
       "    <tr>\n",
       "      <th>country</th>\n",
       "      <td>12.676768</td>\n",
       "      <td>22.870373</td>\n",
       "      <td>164.0</td>\n",
       "      <td>1.0</td>\n",
       "      <td>26.475728</td>\n",
       "      <td>31.158622</td>\n",
       "      <td>179.0</td>\n",
       "      <td>1.0</td>\n",
       "      <td>12.477322</td>\n",
       "      <td>22.157906</td>\n",
       "      <td>171.0</td>\n",
       "      <td>0.0</td>\n",
       "    </tr>\n",
       "    <tr>\n",
       "      <th>ip</th>\n",
       "      <td>581.256247</td>\n",
       "      <td>4140.678180</td>\n",
       "      <td>109159.0</td>\n",
       "      <td>1.0</td>\n",
       "      <td>2387.796117</td>\n",
       "      <td>11269.674137</td>\n",
       "      <td>111918.0</td>\n",
       "      <td>1.0</td>\n",
       "      <td>487.984233</td>\n",
       "      <td>2525.546673</td>\n",
       "      <td>58150.0</td>\n",
       "      <td>1.0</td>\n",
       "    </tr>\n",
       "    <tr>\n",
       "      <th>url</th>\n",
       "      <td>335.187135</td>\n",
       "      <td>2735.527301</td>\n",
       "      <td>81376.0</td>\n",
       "      <td>1.0</td>\n",
       "      <td>544.582524</td>\n",
       "      <td>1163.909786</td>\n",
       "      <td>8551.0</td>\n",
       "      <td>1.0</td>\n",
       "      <td>267.042765</td>\n",
       "      <td>2000.302904</td>\n",
       "      <td>73417.0</td>\n",
       "      <td>1.0</td>\n",
       "    </tr>\n",
       "  </tbody>\n",
       "</table>\n",
       "</div>"
      ],
      "text/plain": [
       "                  h_mean         h_std     h_max  h_min       b_mean  \\\n",
       "bid_id       1413.507709  14597.535155  515033.0    1.0  4004.038835   \n",
       "auction        58.070707    142.933476    1623.0    1.0   145.038835   \n",
       "merchandise     1.000532      0.023057       2.0    1.0     1.000000   \n",
       "device         73.947368    184.560908    2618.0    1.0   163.611650   \n",
       "time         1175.801170   9312.844552  283463.0    1.0  3670.582524   \n",
       "country        12.676768     22.870373     164.0    1.0    26.475728   \n",
       "ip            581.256247   4140.678180  109159.0    1.0  2387.796117   \n",
       "url           335.187135   2735.527301   81376.0    1.0   544.582524   \n",
       "\n",
       "                    b_std     b_max  b_min      t_mean        t_std     t_max  \\\n",
       "bid_id       16370.097403  161935.0    1.0  990.304536  6227.856448  168995.0   \n",
       "auction        195.103186    1018.0    1.0   55.760475   124.486828    1726.0   \n",
       "merchandise      0.000000       1.0    1.0    1.000000     0.000000       1.0   \n",
       "device         222.811854    1144.0    1.0   71.224406   164.947305    2069.0   \n",
       "time         13971.629025  136980.0    1.0  918.739957  5334.479886  135480.0   \n",
       "country         31.158622     179.0    1.0   12.477322    22.157906     171.0   \n",
       "ip           11269.674137  111918.0    1.0  487.984233  2525.546673   58150.0   \n",
       "url           1163.909786    8551.0    1.0  267.042765  2000.302904   73417.0   \n",
       "\n",
       "             t_min  \n",
       "bid_id         1.0  \n",
       "auction        1.0  \n",
       "merchandise    1.0  \n",
       "device         1.0  \n",
       "time           1.0  \n",
       "country        0.0  \n",
       "ip             1.0  \n",
       "url            1.0  "
      ]
     },
     "execution_count": 18,
     "metadata": {},
     "output_type": "execute_result"
    }
   ],
   "source": [
    "naive_stat"
   ]
  },
  {
   "cell_type": "markdown",
   "metadata": {
    "collapsed": true
   },
   "source": [
    "# charts"
   ]
  },
  {
   "cell_type": "markdown",
   "metadata": {},
   "source": [
    "### single element"
   ]
  },
  {
   "cell_type": "code",
   "execution_count": 16,
   "metadata": {
    "collapsed": true
   },
   "outputs": [],
   "source": [
    "def do_box(human, bot, outlier=True):\n",
    "    name = human.name\n",
    "    h_frame = pd.DataFrame(columns=['numbers'], data=human.values)\n",
    "    h_frame[name] = 'human'\n",
    "    b_frame = pd.DataFrame(columns=['numbers'], data=bot.values)\n",
    "    b_frame[name] = 'robot'\n",
    "    frame = h_frame.append(b_frame, ignore_index=True)\n",
    "    return sns.boxplot(x=human.name, y='numbers', data=frame, showfliers=outlier)"
   ]
  },
  {
   "cell_type": "code",
   "execution_count": 25,
   "metadata": {},
   "outputs": [
    {
     "data": {
      "image/png": "[encoded data removed]",
      "text/plain": [
       "<matplotlib.figure.Figure at 0x27e3535a8d0>"
      ]
     },
     "metadata": {},
     "output_type": "display_data"
    }
   ],
   "source": [
    "## with outliers\n",
    "human_g = human_sheet.groupby('bidder_id')\n",
    "bot_g = bot_sheet.groupby('bidder_id')\n",
    "\n",
    "plt.figure(figsize=(10, 6), facecolor='w')\n",
    "plt.subplot(231)\n",
    "do_box(human_g['bid_id'].count(), bot_g['bid_id'].count())\n",
    "plt.subplot(232)\n",
    "do_box(human_g['auction'].nunique(), bot_g['auction'].nunique())\n",
    "plt.subplot(233)\n",
    "do_box(human_g['device'].nunique(), bot_g['device'].nunique())\n",
    "plt.subplot(234)\n",
    "do_box(human_g['country'].nunique(), bot_g['country'].nunique())\n",
    "plt.subplot(235)\n",
    "do_box(human_g['ip'].nunique(), bot_g['ip'].nunique())\n",
    "plt.subplot(236)\n",
    "do_box(human_g['url'].nunique(), bot_g['url'].nunique())\n",
    "\n",
    "plt.tight_layout()\n",
    "plt.show()"
   ]
  },
  {
   "cell_type": "code",
   "execution_count": 26,
   "metadata": {},
   "outputs": [
    {
     "data": {
      "image/png": "[encoded data removed]",
      "text/plain": [
       "<matplotlib.figure.Figure at 0x27e355c6470>"
      ]
     },
     "metadata": {},
     "output_type": "display_data"
    }
   ],
   "source": [
    "## without outliers\n",
    "human_g = human_sheet.groupby('bidder_id')\n",
    "bot_g = bot_sheet.groupby('bidder_id')\n",
    "\n",
    "plt.figure(figsize=(10, 6), facecolor='w')\n",
    "plt.subplot(231)\n",
    "do_box(human_g['bid_id'].count(), bot_g['bid_id'].count(), outlier=False)\n",
    "plt.subplot(232)\n",
    "do_box(human_g['auction'].nunique(), bot_g['auction'].nunique(), outlier=False)\n",
    "plt.subplot(233)\n",
    "do_box(human_g['device'].nunique(), bot_g['device'].nunique(), outlier=False)\n",
    "plt.subplot(234)\n",
    "do_box(human_g['country'].nunique(), bot_g['country'].nunique(), outlier=False)\n",
    "plt.subplot(235)\n",
    "do_box(human_g['ip'].nunique(), bot_g['ip'].nunique(), outlier=False)\n",
    "plt.subplot(236)\n",
    "do_box(human_g['url'].nunique(), bot_g['url'].nunique(), outlier=False)\n",
    "\n",
    "plt.tight_layout()\n",
    "plt.show()"
   ]
  },
  {
   "cell_type": "markdown",
   "metadata": {},
   "source": [
    "### time line"
   ]
  },
  {
   "cell_type": "code",
   "execution_count": 39,
   "metadata": {
    "collapsed": true
   },
   "outputs": [],
   "source": [
    "t_sheet = bids['time'].value_counts()"
   ]
  },
  {
   "cell_type": "code",
   "execution_count": 44,
   "metadata": {},
   "outputs": [
    {
     "data": {
      "image/png": "[encoded data removed]",
      "text/plain": [
       "<matplotlib.figure.Figure at 0x27e34f909e8>"
      ]
     },
     "metadata": {},
     "output_type": "display_data"
    }
   ],
   "source": [
    "plt.figure(figsize=(5, 5), facecolor='w')\n",
    "plt.scatter(t_sheet.index, t_sheet.values, marker='.')\n",
    "plt.xlabel('time line')\n",
    "plt.ylabel('bid counts')\n",
    "plt.title('bid counts through time line')\n",
    "plt.show()"
   ]
  },
  {
   "cell_type": "code",
   "execution_count": 49,
   "metadata": {},
   "outputs": [
    {
     "name": "stdout",
     "output_type": "stream",
     "text": [
      "[      52631578       52631579      105263157      105263158      157894736\n",
      "      157894737      210526315      210526316      315789474      421052632\n",
      "      526315789      526315790 50021105263158]\n"
     ]
    }
   ],
   "source": [
    "time_line = np.sort(bids['time'].unique())\n",
    "t_dif = np.unique(np.diff(time_line))\n",
    "print(t_dif)"
   ]
  },
  {
   "cell_type": "code",
   "execution_count": 56,
   "metadata": {},
   "outputs": [
    {
     "name": "stdout",
     "output_type": "stream",
     "text": [
      "[9631916842105263, 9695580000000000, 9759243157894736]\n",
      "[9645558894736842, 9709222052631578, 9772885210526315]\n"
     ]
    }
   ],
   "source": [
    "t_start = []\n",
    "t_end = []\n",
    "t_start.append(time_line[0])\n",
    "for i in range(len(time_line)-1):\n",
    "    if time_line[i+1] - time_line[i] == 50021105263158:\n",
    "        t_start.append(time_line[i+1])\n",
    "        t_end.append(time_line[i])\n",
    "t_end.append(time_line[-1])\n",
    "print(t_start)\n",
    "print(t_end)"
   ]
  },
  {
   "cell_type": "code",
   "execution_count": 59,
   "metadata": {},
   "outputs": [
    {
     "data": {
      "image/png": "[encoded data removed]",
      "text/plain": [
       "<matplotlib.figure.Figure at 0x27e5e9d9f28>"
      ]
     },
     "metadata": {},
     "output_type": "display_data"
    }
   ],
   "source": [
    "## t cluster 1\n",
    "t_human = human_sheet['time'][human_sheet['time'].between(9631916842105263, 9645558894736842)].value_counts()\n",
    "t_bot = bot_sheet['time'][bot_sheet['time'].between(9631916842105263, 9645558894736842)].value_counts()\n",
    "\n",
    "plt.figure(figsize=(10, 4), facecolor='w')\n",
    "plt.subplot(121)\n",
    "plt.scatter(t_human.index, t_human.values, marker='.')\n",
    "plt.xlabel('time line')\n",
    "plt.ylabel('bid counts')\n",
    "plt.title('t1 human')\n",
    "plt.subplot(122)\n",
    "plt.scatter(t_bot.index, t_bot.values, marker='.')\n",
    "plt.xlabel('time line')\n",
    "plt.ylabel('bid counts')\n",
    "plt.title('t1 bot')\n",
    "plt.show()"
   ]
  },
  {
   "cell_type": "code",
   "execution_count": 60,
   "metadata": {},
   "outputs": [
    {
     "data": {
      "image/png": "[encoded data removed]",
      "text/plain": [
       "<matplotlib.figure.Figure at 0x27e5e968208>"
      ]
     },
     "metadata": {},
     "output_type": "display_data"
    }
   ],
   "source": [
    "## t cluster 2\n",
    "t_human = human_sheet['time'][human_sheet['time'].between(9695580000000000, 9709222052631578)].value_counts()\n",
    "t_bot = bot_sheet['time'][bot_sheet['time'].between(9695580000000000, 9709222052631578)].value_counts()\n",
    "\n",
    "plt.figure(figsize=(10, 4), facecolor='w')\n",
    "plt.subplot(121)\n",
    "plt.scatter(t_human.index, t_human.values, marker='.')\n",
    "plt.xlabel('time line')\n",
    "plt.ylabel('bid counts')\n",
    "plt.title('t2 human')\n",
    "plt.subplot(122)\n",
    "plt.scatter(t_bot.index, t_bot.values, marker='.')\n",
    "plt.xlabel('time line')\n",
    "plt.ylabel('bid counts')\n",
    "plt.title('t2 bot')\n",
    "plt.show()"
   ]
  },
  {
   "cell_type": "code",
   "execution_count": 61,
   "metadata": {},
   "outputs": [
    {
     "data": {
      "image/png": "[encoded data removed]",
      "text/plain": [
       "<matplotlib.figure.Figure at 0x27e5d9c9da0>"
      ]
     },
     "metadata": {},
     "output_type": "display_data"
    }
   ],
   "source": [
    "## t cluster 3\n",
    "t_human = human_sheet['time'][human_sheet['time'].between(9759243157894736, 9772885210526315)].value_counts()\n",
    "t_bot = bot_sheet['time'][bot_sheet['time'].between(9759243157894736, 9772885210526315)].value_counts()\n",
    "\n",
    "plt.figure(figsize=(10, 4), facecolor='w')\n",
    "plt.subplot(121)\n",
    "plt.scatter(t_human.index, t_human.values, marker='.')\n",
    "plt.xlabel('time line')\n",
    "plt.ylabel('bid counts')\n",
    "plt.title('t3 human')\n",
    "plt.subplot(122)\n",
    "plt.scatter(t_bot.index, t_bot.values, marker='.')\n",
    "plt.xlabel('time line')\n",
    "plt.ylabel('bid counts')\n",
    "plt.title('t3 bot')\n",
    "plt.show()"
   ]
  },
  {
   "cell_type": "markdown",
   "metadata": {},
   "source": [
    "# result"
   ]
  },
  {
   "cell_type": "code",
   "execution_count": 6,
   "metadata": {
    "collapsed": true
   },
   "outputs": [],
   "source": [
    "knn = pd.read_csv('result/output_0603_knn.csv', ).rename(columns={'prediction': 'knn'})\n",
    "rf = pd.read_csv('result/output_0603_rf.csv', ).rename(columns={'prediction': 'rf'})\n",
    "lgb = pd.read_csv('result/output_0603_lgb.csv', ).rename(columns={'prediction': 'lgb'})\n",
    "result = knn.merge(rf, on='bidder_id').merge(lgb, on='bidder_id')\n",
    "del knn, rf, lgb"
   ]
  },
  {
   "cell_type": "code",
   "execution_count": 7,
   "metadata": {},
   "outputs": [
    {
     "data": {
      "text/html": [
       "<div>\n",
       "<style>\n",
       "    .dataframe thead tr:only-child th {\n",
       "        text-align: right;\n",
       "    }\n",
       "\n",
       "    .dataframe thead th {\n",
       "        text-align: left;\n",
       "    }\n",
       "\n",
       "    .dataframe tbody tr th {\n",
       "        vertical-align: top;\n",
       "    }\n",
       "</style>\n",
       "<table border=\"1\" class=\"dataframe\">\n",
       "  <thead>\n",
       "    <tr style=\"text-align: right;\">\n",
       "      <th></th>\n",
       "      <th>knn</th>\n",
       "      <th>rf</th>\n",
       "      <th>lgb</th>\n",
       "    </tr>\n",
       "  </thead>\n",
       "  <tbody>\n",
       "    <tr>\n",
       "      <th>count</th>\n",
       "      <td>4700.000000</td>\n",
       "      <td>4700.000000</td>\n",
       "      <td>4700.000000</td>\n",
       "    </tr>\n",
       "    <tr>\n",
       "      <th>mean</th>\n",
       "      <td>0.027699</td>\n",
       "      <td>0.048776</td>\n",
       "      <td>0.051190</td>\n",
       "    </tr>\n",
       "    <tr>\n",
       "      <th>std</th>\n",
       "      <td>0.054629</td>\n",
       "      <td>0.091196</td>\n",
       "      <td>0.111787</td>\n",
       "    </tr>\n",
       "    <tr>\n",
       "      <th>min</th>\n",
       "      <td>0.000000</td>\n",
       "      <td>0.000000</td>\n",
       "      <td>0.000000</td>\n",
       "    </tr>\n",
       "    <tr>\n",
       "      <th>25%</th>\n",
       "      <td>0.000000</td>\n",
       "      <td>0.001804</td>\n",
       "      <td>0.005526</td>\n",
       "    </tr>\n",
       "    <tr>\n",
       "      <th>50%</th>\n",
       "      <td>0.000000</td>\n",
       "      <td>0.008324</td>\n",
       "      <td>0.009142</td>\n",
       "    </tr>\n",
       "    <tr>\n",
       "      <th>75%</th>\n",
       "      <td>0.027817</td>\n",
       "      <td>0.042140</td>\n",
       "      <td>0.019987</td>\n",
       "    </tr>\n",
       "    <tr>\n",
       "      <th>max</th>\n",
       "      <td>0.631316</td>\n",
       "      <td>0.643884</td>\n",
       "      <td>0.891113</td>\n",
       "    </tr>\n",
       "  </tbody>\n",
       "</table>\n",
       "</div>"
      ],
      "text/plain": [
       "               knn           rf          lgb\n",
       "count  4700.000000  4700.000000  4700.000000\n",
       "mean      0.027699     0.048776     0.051190\n",
       "std       0.054629     0.091196     0.111787\n",
       "min       0.000000     0.000000     0.000000\n",
       "25%       0.000000     0.001804     0.005526\n",
       "50%       0.000000     0.008324     0.009142\n",
       "75%       0.027817     0.042140     0.019987\n",
       "max       0.631316     0.643884     0.891113"
      ]
     },
     "execution_count": 7,
     "metadata": {},
     "output_type": "execute_result"
    }
   ],
   "source": [
    "result.describe()"
   ]
  },
  {
   "cell_type": "code",
   "execution_count": 15,
   "metadata": {},
   "outputs": [
    {
     "data": {
      "text/html": [
       "<div>\n",
       "<style>\n",
       "    .dataframe thead tr:only-child th {\n",
       "        text-align: right;\n",
       "    }\n",
       "\n",
       "    .dataframe thead th {\n",
       "        text-align: left;\n",
       "    }\n",
       "\n",
       "    .dataframe tbody tr th {\n",
       "        vertical-align: top;\n",
       "    }\n",
       "</style>\n",
       "<table border=\"1\" class=\"dataframe\">\n",
       "  <thead>\n",
       "    <tr style=\"text-align: right;\">\n",
       "      <th></th>\n",
       "      <th>knn</th>\n",
       "      <th>rf</th>\n",
       "      <th>lgb</th>\n",
       "    </tr>\n",
       "  </thead>\n",
       "  <tbody>\n",
       "    <tr>\n",
       "      <th>q95</th>\n",
       "      <td>0.132831</td>\n",
       "      <td>0.238262</td>\n",
       "      <td>0.267393</td>\n",
       "    </tr>\n",
       "    <tr>\n",
       "      <th>q99</th>\n",
       "      <td>0.258214</td>\n",
       "      <td>0.439829</td>\n",
       "      <td>0.603878</td>\n",
       "    </tr>\n",
       "  </tbody>\n",
       "</table>\n",
       "</div>"
      ],
      "text/plain": [
       "          knn        rf       lgb\n",
       "q95  0.132831  0.238262  0.267393\n",
       "q99  0.258214  0.439829  0.603878"
      ]
     },
     "execution_count": 15,
     "metadata": {},
     "output_type": "execute_result"
    }
   ],
   "source": [
    "q_sheet = pd.DataFrame(index=['q95', 'q99'], columns=['knn', 'rf', 'lgb'])\n",
    "q95 = result.quantile(q=0.95)\n",
    "q99 = result.quantile(q=0.99)\n",
    "q_sheet.loc['q95', q95.index] = q95.values\n",
    "q_sheet.loc['q99', q99.index] = q99.values\n",
    "q_sheet"
   ]
  },
  {
   "cell_type": "code",
   "execution_count": null,
   "metadata": {
    "collapsed": true
   },
   "outputs": [],
   "source": []
  }
 ],
 "metadata": {
  "kernelspec": {
   "display_name": "Python 3",
   "language": "python",
   "name": "python3"
  },
  "language_info": {
   "codemirror_mode": {
    "name": "ipython",
    "version": 3
   },
   "file_extension": ".py",
   "mimetype": "text/x-python",
   "name": "python",
   "nbconvert_exporter": "python",
   "pygments_lexer": "ipython3",
   "version": "3.6.1"
  }
 },
 "nbformat": 4,
 "nbformat_minor": 2
}
