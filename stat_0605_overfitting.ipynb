{
 "cells": [
  {
   "cell_type": "code",
   "execution_count": 1,
   "metadata": {
    "collapsed": true
   },
   "outputs": [],
   "source": [
    "import numpy as np\n",
    "import pandas as pd\n",
    "import matplotlib.pyplot as plt\n",
    "import seaborn as sns\n",
    "\n",
    "%matplotlib inline"
   ]
  },
  {
   "cell_type": "code",
   "execution_count": 2,
   "metadata": {
    "collapsed": true
   },
   "outputs": [],
   "source": [
    "from sklearn.model_selection import GridSearchCV, train_test_split\n",
    "from sklearn.preprocessing import StandardScaler, MultiLabelBinarizer\n",
    "import lightgbm as lgb"
   ]
  },
  {
   "cell_type": "code",
   "execution_count": 3,
   "metadata": {
    "collapsed": true
   },
   "outputs": [],
   "source": [
    "file_name = 'stat_0602'\n",
    "\n",
    "stat = pd.read_csv('stat/' + file_name + '.csv')\n",
    "train = pd.read_csv('data/train.csv', usecols=['bidder_id', 'outcome'])\n",
    "test = pd.read_csv('data/test.csv', usecols=['bidder_id'])"
   ]
  },
  {
   "cell_type": "code",
   "execution_count": 5,
   "metadata": {},
   "outputs": [],
   "source": [
    "# preprocessing\n",
    "stat = pd.merge(stat, train, on='bidder_id', how='left')\n",
    "bidder = stat['bidder_id']\n",
    "clr_stat = stat.drop(['bidder_id', 'outcome'], axis=1)\n",
    "clr_stat.fillna(0, inplace=True)\n",
    "\n",
    "numbers = clr_stat.select_dtypes(exclude=['object'])\n",
    "num_col_name = numbers.columns\n",
    "numbers = numbers.as_matrix()\n",
    "\n",
    "texts = clr_stat.select_dtypes(include=['object']).as_matrix()\n",
    "\n",
    "scaler = StandardScaler()\n",
    "numbers = pd.DataFrame(data=scaler.fit_transform(numbers), columns=num_col_name)\n",
    "\n",
    "mlb = MultiLabelBinarizer()\n",
    "mlb.fit(texts)\n",
    "text_col_name = mlb.classes_\n",
    "texts = pd.DataFrame(data=mlb.transform(texts), columns=text_col_name)\n",
    "\n",
    "clr_stat = pd.concat([numbers, texts], axis=1)\n",
    "clr_stat['bidder_id'] = bidder"
   ]
  },
  {
   "cell_type": "code",
   "execution_count": 6,
   "metadata": {
    "collapsed": true
   },
   "outputs": [],
   "source": [
    "train_sheet = pd.merge(clr_stat, train, on='bidder_id')\n",
    "test_sheet = pd.merge(clr_stat, test, on='bidder_id')\n",
    "y = train_sheet['outcome']\n",
    "X = train_sheet.drop(['bidder_id', 'outcome'], axis=1)"
   ]
  },
  {
   "cell_type": "code",
   "execution_count": 7,
   "metadata": {
    "collapsed": true
   },
   "outputs": [],
   "source": [
    "# predict\n",
    "test_X = test_sheet.drop(['bidder_id'], axis=1)\n",
    "result_sheet = pd.DataFrame(data=test_sheet['bidder_id'], columns=['bidder_id'])\n",
    "\n",
    "df = lgb.LGBMClassifier(n_estimators=300, num_leaves=4, min_child_weight=3)\n",
    "df.fit(X, y)\n",
    "\n",
    "result_sheet['prediction'] = pd.DataFrame(df.predict_proba(test_X))[1]\n",
    "output = pd.merge(test, result_sheet, on='bidder_id', how='left').fillna(0)"
   ]
  },
  {
   "cell_type": "code",
   "execution_count": 11,
   "metadata": {
    "collapsed": true
   },
   "outputs": [],
   "source": [
    "file_name = 'output_0605_lgb_overfit'\n",
    "output.to_csv('result/' + file_name + '.csv', index=False)"
   ]
  },
  {
   "cell_type": "code",
   "execution_count": null,
   "metadata": {
    "collapsed": true
   },
   "outputs": [],
   "source": []
  }
 ],
 "metadata": {
  "kernelspec": {
   "display_name": "Python 3",
   "language": "python",
   "name": "python3"
  },
  "language_info": {
   "codemirror_mode": {
    "name": "ipython",
    "version": 3
   },
   "file_extension": ".py",
   "mimetype": "text/x-python",
   "name": "python",
   "nbconvert_exporter": "python",
   "pygments_lexer": "ipython3",
   "version": "3.6.1"
  }
 },
 "nbformat": 4,
 "nbformat_minor": 2
}
